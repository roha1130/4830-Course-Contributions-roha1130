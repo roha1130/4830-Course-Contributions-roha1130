{
 "cells": [
  {
   "cell_type": "markdown",
   "id": "786f75eb-c264-4117-b2b7-ff0dbb607546",
   "metadata": {},
   "source": [
    "## Week 1\n",
    "\n",
    "Piazza posts:\n",
    "\n",
    "w1 Reading Math Activity\n",
    "\n",
    "Keeping things in a \"frame of reference\" is key for me as well.  During my calc studies in undergrad I always had to remind myself that in calc there is always a \"tool box\" that you can pull from when solving for equations or variables.  This could be a rule or a previously used method that worked for another solve.  The main thing was remembering that it was a tool that can be used to further the solution.\n",
    "\n",
    "Discrete structures was another course that was steeped in these math tricks, every workbook required them, so definitely had to keep a frame of reference!\n",
    "\n",
    "w1 7 The simple model from early in the Chapter.\n",
    "\n",
    "There are all sorts of SIR examples out there, I believe we've seen it before!  The pseudo code on page 69 is comprehensive and has everything.  The variables T, S, I, R, deltaT, range are given, but the day count and step count was something that I forgot on the first attempt.  I like to think of those variables as adjustments to the resolution of the output.  A lower day count will let you see how an infection spreads over the first week/week 1/2 as opposed to a 3 month plot.\n",
    "\n"
   ]
  },
  {
   "cell_type": "markdown",
   "id": "9cc209cf-69c9-462b-9bd9-54201c7af2b6",
   "metadata": {},
   "source": [
    "## Week 2\n",
    "\n",
    "Piazza posts:\n",
    "\n",
    "w2 Code SIRPLOT\n",
    "\n",
    "Think of the time steps as the resolution of the plot.  The number of steps will govern the number of 'snippets' of the SIR model that you will see as your loop runs.  The code provided uses the number of steps as a range for iteration.  Increasing the number will increase the smoothness of the plot but will take longer to run (more steps, more iterations).  The time window t is the number of days that will be shown of the SIR model. \n",
    "\n",
    "The time frame of the SIR model (t, t initial, and t final) are basically the window that you want to look at for the infection.  If you were to put 90 days in for tfinal (assuming 0 for tinitial), with a recovery period of 10 days, the graph would have the infection right at the start, and then all plots either approaching 100 or 0 based on what they're tracking (S, I, R) for the remainder of the graph.  Adjusting tinitial and tfinal allows us to take a look at specific periods of the infection.\n",
    "\n",
    "w2 How bad is your epidemic?\n",
    "\n",
    "Maybe try showing R on a separate plots for starters?  Another idea is to increase the population size.  With a huge population it could separate the plots enough so that more could be included together.  I only have 3 plots for A given the increments from 0.000002 to 0.00004 at 0.000004 increments, so It doesn't look too bad even at lower resolutions.\n",
    "\n",
    "w2 1.2 #24, 25, 28 Population and Cooling\n",
    "\n",
    "They way I went about solving this one was to do the same math for the larger city.  I know it sounds intuitive already and should go without saying, but the population growth rate k is also 0.015 for the larger city.\n",
    "\n",
    "P ′ = 3000 = k P = k × 200000 so k = 3000/200000 = .015.\n",
    "\n",
    "I think the important thing to remember is that P' is an over simplification of the growth rate of cities.  It's safe to assume that no one is entering or leaving the city (sounds like a dystopia), and the city's growth rate is self contained."
   ]
  },
  {
   "cell_type": "markdown",
   "id": "f77033d1-8dff-44a9-8007-dc30e4796502",
   "metadata": {},
   "source": [
    "## Week 3\n",
    "\n",
    "Piazza posts:\n",
    "\n",
    "w3 1.(#1/#2 p115) Estimating rate of change at a point on a curvy graph\n",
    "\n",
    "This code snippet was great, Easily set the trajectory for visualizing the \"scope in\" logic of the microscope function.  It helped to realize that the slope function had to be hard coded in.  In many of our previous implementations of slope representations we pulled it from numpy.\n",
    "\n",
    "w3 2.(#10 pp 118/119)\n",
    "\n",
    "The logic that I used for d) was that the slopes for their trips (speed over time at a set distance), would have to cross at some point.  There are a few ways that you can represent this without even using a graph.  If Bill and Samantha were to use some sort of auto pilot for their cars, then the slopes would be identical, and touching.  If Bill or Samantha were to drive quickly or slowly for either the front half or the back half of the trip, then in order to fulfill the conditions of the problem, the slopes would have to cross (in order to make up the difference).\n",
    "\n",
    "w3 4.(#3 p.131)\n",
    "\n",
    "At smaller log scales the differences between the scalar values can become pretty dramatic.  I know that this isn't exactly a zoomed in view of the stabilization of two slopes, but I feel like working through #2 first was the best way to start visualizing this.  Given that the solves for Q1 and Q2 are provided, there is less guessing involved."
   ]
  },
  {
   "cell_type": "markdown",
   "id": "c59a3101-dfa7-438f-9a0f-1b8e3c32b909",
   "metadata": {},
   "source": [
    "## Week 4\n",
    "\n",
    "Piazza posts:\n",
    "\n",
    "w4 #1 Numerical Point Derivative Finder\n",
    "\n",
    "I like this implementation as a choice during the function call.  I also like the idea of just plotting both and seeing the difference between the quotients as a result of our inputs.  It would still be fairly easy to include an output that explained why q1 or q2 would be more desirable.\n",
    "\n",
    "w4 #2\n",
    "\n",
    "It sounds like the tangent method is more widely used because it works with a known derivative.  I think this is the case because we have been using generally simple functions with going for the derivative estimate.  The wolfram numerical derivative calc output was very close to the results that I got after adjusting the code for my derivative output.  It was interesting to see how the slop estimates changed with different functions and x vals.\n",
    "\n",
    "w4 #5\n",
    "\n",
    "Ya I also had to increase sample size in order to get those curves looking smooth and consistent.  I was also debating increasing the scale or the window that was in use however it didn't really have the same effect.  The smoothing improvement made the biggest impact for me.\n"
   ]
  },
  {
   "cell_type": "markdown",
   "id": "08e07953-1cbe-4e1d-90f8-aa003bc45ff6",
   "metadata": {},
   "source": [
    "## Week 7\n",
    "\n",
    "Piazza posts:\n",
    "\n",
    "Week 7: Ebola Activity\n",
    "\n",
    "Yeah I think the smooth function refers to the smoothing method that we've used in previous plots.  The bar graphs that we see at the onset could be considered as the lower resolution plots (small step count) and the smooth graphs as the high step count plots.\n",
    "\n",
    "Week7: Activity #3\n",
    "\n",
    "Nice!  This is a great way to plot the accumulation functions iteratively rather than in order.  Plotting these was helpful for expanding on the results of Activity 1.  Although these were more free hand it's fun to see the coded results on top of them.\n"
   ]
  },
  {
   "cell_type": "markdown",
   "id": "470fa552-9a28-480e-a90c-58cb03a55ea8",
   "metadata": {},
   "source": [
    "## Week 8\n",
    "\n",
    "Piazza posts:\n",
    "\n",
    "w8 Activity 1\n",
    "\n",
    "Some of these were a little challenging at first, I was forgetting that the chain rule was only useful when applying the rest of the algebraic properties (commutative, associative, etc).  I found it helpful to go through some of the algebraic properties again in order to have them on hand while working through these derivatives.\n",
    "\n",
    "W8 - Activity 3 Code and Computational Thinking\n",
    "\n",
    "Great example in pseudo code.  The book has had a ton of great examples so far, although I think in this case we really only need a brief explanation even though the book examples are relatively in depth."
   ]
  },
  {
   "cell_type": "markdown",
   "id": "d1508dd0-385e-42c4-aa79-932c57a3ebbd",
   "metadata": {},
   "source": [
    "## Week 9\n",
    "\n",
    "Piazza posts:\n",
    "\n",
    "w9 Share images from the Week 9 Activities\n",
    "\n",
    "It looks like convergence occurs at -5 and 4ish.  I like this implementation as it encompass' a range of values as opposed to a set k value.\n",
    "\n",
    "W9 - Find a short video\n",
    "\n",
    "I took a look through a few video's, there are a handful of approaches out there.  I thought this one gave the best best example of how we are approximating solutions rather than attempting the solve: https://www.youtube.com/watch?v=ER5B_YBFMJo\n",
    "\n",
    "I'd say this a reputable source as well.\n",
    "\n",
    "w9 - Share good Newton's Method illustrations\n",
    "\n",
    "I found a good page on Newton's method that I don't think was previously discussed here.  It has some great examples on deviation and potential convergence, as well as code examples."
   ]
  },
  {
   "cell_type": "code",
   "execution_count": null,
   "id": "d78fc675-21dd-4215-b35c-c74ed3430add",
   "metadata": {},
   "outputs": [],
   "source": []
  }
 ],
 "metadata": {
  "kernelspec": {
   "display_name": "Python 3 (ipykernel)",
   "language": "python",
   "name": "python3"
  },
  "language_info": {
   "codemirror_mode": {
    "name": "ipython",
    "version": 3
   },
   "file_extension": ".py",
   "mimetype": "text/x-python",
   "name": "python",
   "nbconvert_exporter": "python",
   "pygments_lexer": "ipython3",
   "version": "3.10.8"
  }
 },
 "nbformat": 4,
 "nbformat_minor": 5
}
