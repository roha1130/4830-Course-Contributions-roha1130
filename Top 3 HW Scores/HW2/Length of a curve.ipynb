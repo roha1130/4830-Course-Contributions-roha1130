{
 "cells": [
  {
   "cell_type": "code",
   "execution_count": 7,
   "id": "394bc876-3468-493e-97e1-3f187e86839f",
   "metadata": {},
   "outputs": [
    {
     "name": "stdout",
     "output_type": "stream",
     "text": [
      "Segment 1: Length = 0.050062\n",
      "Segment 2: Length = 0.050559\n",
      "Segment 3: Length = 0.051539\n",
      "Segment 4: Length = 0.052974\n",
      "Segment 5: Length = 0.054829\n",
      "Segment 6: Length = 0.057064\n",
      "Segment 7: Length = 0.059634\n",
      "Segment 8: Length = 0.062500\n",
      "Segment 9: Length = 0.065622\n",
      "Segment 10: Length = 0.068966\n",
      "Segment 11: Length = 0.072500\n",
      "Segment 12: Length = 0.076199\n",
      "Segment 13: Length = 0.080039\n",
      "Segment 14: Length = 0.084001\n",
      "Segment 15: Length = 0.088070\n",
      "Segment 16: Length = 0.092229\n",
      "Segment 17: Length = 0.096469\n",
      "Segment 18: Length = 0.100778\n",
      "Segment 19: Length = 0.105149\n",
      "Segment 20: Length = 0.109573\n",
      "Number of steps: 20\n",
      "Total estimated length: 1.478757\n"
     ]
    }
   ],
   "source": [
    "import math\n",
    "#from Page 91 \n",
    "# curve function definition: given as f(x) = x^2\n",
    "def fnf(x):\n",
    "    return x ** 2\n",
    "\n",
    "xinitial = 0\n",
    "xfinal = 1\n",
    "number_of_steps = 20 #really any step (segment) count above 5 doesnt seem to increase accuracy too much\n",
    "deltax = (xfinal - xinitial) / number_of_steps\n",
    "total = 0\n",
    "\n",
    "#Iterate \n",
    "for k in range(1, number_of_steps + 1):\n",
    "    #Taking values for each end of a segment (of the larger curve)\n",
    "    xl = xinitial + (k - 1) * deltax\n",
    "    xr = xinitial + k * deltax\n",
    "    yl = fnf(xl)\n",
    "    yr = fnf(xr)\n",
    "    \n",
    "    segment = math.sqrt((xr - xl) ** 2 + (yr - yl) ** 2)\n",
    "    total += segment\n",
    "    print(f\"Segment {k}: Length = {segment:.6f}\")\n",
    "\n",
    "    #Here we count the segements and print the total length of the curve (accumulating segments)\n",
    "print(f\"Number of steps: {number_of_steps}\")\n",
    "print(f\"Total estimated length: {total:.6f}\")\n"
   ]
  },
  {
   "cell_type": "code",
   "execution_count": 11,
   "id": "2472ed9f-9193-499e-ae77-b182a986a3dc",
   "metadata": {},
   "outputs": [
    {
     "name": "stdout",
     "output_type": "stream",
     "text": [
      "Segments: 200, Total Length: 1.478940994154\n",
      "Segments: 2000, Total Length: 1.478942838911\n",
      "Segments: 20000, Total Length: 1.478942857358\n",
      "Segments: 200000, Total Length: 1.478942857543\n",
      "Segments: 2000000, Total Length: 1.478942857545\n"
     ]
    }
   ],
   "source": [
    "import math\n",
    "\n",
    "# Function definition: f(x) = x^2\n",
    "def fnf(x):\n",
    "    return x ** 2\n",
    "\n",
    "# Parameters for the range of x\n",
    "xinitial = 0\n",
    "xfinal = 1\n",
    "\n",
    "# Segment counts to test\n",
    "segment_counts = [200, 2000, 20000, 200000, 2000000]\n",
    "\n",
    "# Function to calculate the length of the parabola using a given number of segments\n",
    "def estimate_length(segment_count):\n",
    "    deltax = (xfinal - xinitial) / segment_count\n",
    "    total = 0\n",
    "\n",
    "    # Loop to calculate the total length\n",
    "    for k in range(1, segment_count + 1):\n",
    "        # Calculate x values for the left and right endpoints of each segment\n",
    "        xl = xinitial + (k - 1) * deltax\n",
    "        xr = xinitial + k * deltax\n",
    "        \n",
    "        # Calculate y values for the left and right endpoints\n",
    "        yl = fnf(xl)\n",
    "        yr = fnf(xr)\n",
    "        \n",
    "        # Calculate the length of the segment using the Pythagorean theorem\n",
    "        segment = math.sqrt((xr - xl) ** 2 + (yr - yl) ** 2)\n",
    "        \n",
    "        # Add the segment length to the total\n",
    "        total += segment\n",
    "\n",
    "    return total\n",
    "\n",
    "# Loop over the different segment counts and print the total estimated length\n",
    "for segments in segment_counts:\n",
    "    total_length = estimate_length(segments)\n",
    "    print(f\"Segments: {segments}, Total Length: {total_length:.12f}\")\n"
   ]
  },
  {
   "cell_type": "code",
   "execution_count": null,
   "id": "cf3e1c0b-ceab-426d-b3c2-ce8a2514e7a7",
   "metadata": {},
   "outputs": [],
   "source": []
  }
 ],
 "metadata": {
  "kernelspec": {
   "display_name": "Python 3 (ipykernel)",
   "language": "python",
   "name": "python3"
  },
  "language_info": {
   "codemirror_mode": {
    "name": "ipython",
    "version": 3
   },
   "file_extension": ".py",
   "mimetype": "text/x-python",
   "name": "python",
   "nbconvert_exporter": "python",
   "pygments_lexer": "ipython3",
   "version": "3.10.8"
  }
 },
 "nbformat": 4,
 "nbformat_minor": 5
}
